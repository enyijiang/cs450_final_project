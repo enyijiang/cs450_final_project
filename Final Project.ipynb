{
 "cells": [
  {
   "cell_type": "markdown",
   "metadata": {},
   "source": [
    "## Computing Singular Value Decomposition (SVD) Through Power Iterations"
   ]
  },
  {
   "cell_type": "code",
   "execution_count": 1,
   "metadata": {},
   "outputs": [],
   "source": [
    "import numpy as np\n",
    "import pandas as pd\n",
    "import matplotlib.pyplot as plt\n",
    "from matplotlib import ticker\n",
    "%matplotlib inline"
   ]
  },
  {
   "cell_type": "markdown",
   "metadata": {},
   "source": [
    "### Read in Data"
   ]
  },
  {
   "cell_type": "code",
   "execution_count": 2,
   "metadata": {},
   "outputs": [
    {
     "data": {
      "text/plain": [
       "(365, 7)"
      ]
     },
     "execution_count": 2,
     "metadata": {},
     "output_type": "execute_result"
    }
   ],
   "source": [
    "df=pd.read_csv('data/Consumo_cerveja.csv', decimal=',')\n",
    "df =  df.dropna()\n",
    "df.shape"
   ]
  },
  {
   "cell_type": "code",
   "execution_count": 28,
   "metadata": {},
   "outputs": [],
   "source": [
    "def plot_two(x, y, x_label=\"Maximal temperature ($\\degree$C)\", y_label=\"Consuption (liters)\", \n",
    "              alpha=0.3, draw_axes=False):\n",
    "    \n",
    "    x = [float(ele) for ele in x]\n",
    "    y = [float(ele) for ele in y]\n",
    "    plt.scatter(x, y, alpha=alpha)\n",
    "\n",
    "    plt.xlabel(x_label)\n",
    "    plt.ylabel(y_label)\n",
    "\n",
    "    # Assure that ticks are displayed with a specific step\n",
    "    ax = plt.gca()\n",
    "    ax.xaxis.set_major_locator(ticker.MultipleLocator(5))\n",
    "    ax.yaxis.set_major_locator(ticker.MultipleLocator(5))\n",
    "    \n",
    "    if draw_axes:\n",
    "        # draw axes\n",
    "        plt.axhline(0, c='#d6d6d6', zorder=0)\n",
    "        plt.axvline(0, c='#d6d6d6', zorder=0)\n",
    "\n",
    "    # assure x and y axis have the same scale\n",
    "    plt.axis('equal')\n",
    "    plt.show()"
   ]
  },
  {
   "cell_type": "code",
   "execution_count": 59,
   "metadata": {},
   "outputs": [
    {
     "data": {
      "image/png": "[encoded data removed]",
      "text/plain": [
       "<Figure size 432x288 with 1 Axes>"
      ]
     },
     "metadata": {
      "needs_background": "light"
     },
     "output_type": "display_data"
    }
   ],
   "source": [
    "plot_two( df['Temperatura Maxima (C)'],\n",
    "          df['Consumo de cerveja (litros)'])"
   ]
  },
  {
   "cell_type": "code",
   "execution_count": 81,
   "metadata": {},
   "outputs": [
    {
     "name": "stdout",
     "output_type": "stream",
     "text": [
      "Temperatura Media (C)\n",
      "Temperatura Minima (C)\n",
      "Temperatura Maxima (C)\n"
     ]
    },
    {
     "data": {
      "text/plain": [
       "(365, 3)"
      ]
     },
     "execution_count": 81,
     "metadata": {},
     "output_type": "execute_result"
    }
   ],
   "source": [
    "cols = df.columns\n",
    "all_d = []\n",
    "for col in cols[1:4]:\n",
    "    print(col)\n",
    "    all_d.append([float(ele) for ele in df[col]])\n",
    "data = np.array(all_d).T\n",
    "# data = [all_d[2], all_d[-1]]\n",
    "# data = np.array(data).T\n",
    "data.shape"
   ]
  },
  {
   "cell_type": "code",
   "execution_count": 62,
   "metadata": {},
   "outputs": [],
   "source": [
    "# Normalization\n",
    "data_norm=data.copy()\n",
    "data_norm -= data.mean(axis=0)\n",
    "cov = np.cov(data_norm, rowvar=False)"
   ]
  },
  {
   "cell_type": "markdown",
   "metadata": {},
   "source": [
    "if the data are centered, the SVD can be used to perform a spectral decomposition of the sample covariance matrix where the right singular vectors correspond to the eigen vectors of the covariance matrix\n",
    "\n",
    "$$\\lambda_i = \\frac{s_i^{2}}{n-1}, n=365. \\text{(in our case)}$$\n",
    "$$s_i = \\sqrt{(n-1)\\lambda_i}$$\n",
    "\n",
    "https://stats.stackexchange.com/questions/134282/relationship-between-svd-and-pca-how-to-use-svd-to-perform-pca"
   ]
  },
  {
   "cell_type": "markdown",
   "metadata": {},
   "source": [
    "### Normalized Power Iteration"
   ]
  },
  {
   "cell_type": "code",
   "execution_count": 52,
   "metadata": {},
   "outputs": [],
   "source": [
    "def norm_power_iteration(A, epsilon=1e-10):\n",
    "    d = A.shape[0]\n",
    "    vec_old = np.ones(d) / np.sqrt(d)\n",
    "    val_old = np.linalg.norm(vec_old)\n",
    "    \n",
    "    while True:\n",
    "        vec_new = A @ vec_old\n",
    "        val_new = np.linalg.norm(vec_new)\n",
    "        vec_new /= val_new\n",
    "        if np.abs(val_new - val_old) < epsilon:\n",
    "            break\n",
    "        vec_old = vec_new\n",
    "        val_old = val_new\n",
    "    return val_new, vec_new"
   ]
  },
  {
   "cell_type": "code",
   "execution_count": 53,
   "metadata": {},
   "outputs": [],
   "source": [
    "def svd_1d(A, epsilon=1e-10):\n",
    "    ''' The one-dimensional SVD '''\n",
    " \n",
    "    n, m = A.shape # (365, # of features)\n",
    "    x = np.ones(m)/m\n",
    "    vec_old = x\n",
    "    val_old = np.linalg.norm(vec_old)\n",
    "    B = A.T @ A # do power iteration on matrix B...B is a square matrix\n",
    " \n",
    "    while True:\n",
    "        vec_new = B @ vec_old\n",
    "        val_new = np.linalg.norm(vec_new)\n",
    "        vec_new /= val_new\n",
    "        if np.abs(val_new - val_old) < epsilon:\n",
    "            break\n",
    "        vec_old = vec_new\n",
    "        val_old = val_new\n",
    "    return np.sqrt(val_new), vec_new"
   ]
  },
  {
   "cell_type": "code",
   "execution_count": 63,
   "metadata": {},
   "outputs": [
    {
     "data": {
      "text/plain": [
       "(31.20734500851459, array([0.69671145, 0.71735149]))"
      ]
     },
     "execution_count": 63,
     "metadata": {},
     "output_type": "execute_result"
    }
   ],
   "source": [
    "eigen_val, eigen_vec = norm_power_iteration(cov)\n",
    "eigen_val, eigen_vec"
   ]
  },
  {
   "cell_type": "code",
   "execution_count": 65,
   "metadata": {},
   "outputs": [
    {
     "data": {
      "text/plain": [
       "(106.5808312179067, array([0.6967114 , 0.71735154]))"
      ]
     },
     "execution_count": 65,
     "metadata": {},
     "output_type": "execute_result"
    }
   ],
   "source": [
    "eigen_val, eigen_vec = svd_1d(data_norm)\n",
    "eigen_val, eigen_vec"
   ]
  },
  {
   "cell_type": "code",
   "execution_count": 64,
   "metadata": {},
   "outputs": [
    {
     "data": {
      "text/plain": [
       "(array([106.58083122,  49.69559601]),\n",
       " array([[-0.69671139, -0.71735154],\n",
       "        [-0.71735154,  0.69671139]]))"
      ]
     },
     "execution_count": 64,
     "metadata": {},
     "output_type": "execute_result"
    }
   ],
   "source": [
    "u, s, v=np.linalg.svd(data_norm)\n",
    "s, v"
   ]
  },
  {
   "cell_type": "code",
   "execution_count": 66,
   "metadata": {},
   "outputs": [],
   "source": [
    "#lets plot dominant eigenvector\n",
    "def plot_eigenvectors(eigen_vecs, eigen_values, colors=[\"#FF8177\", \"orange\"]):\n",
    "    plt.title('Convariance Matrix First Component Visualization')\n",
    "    for i, eigen_vec in enumerate(eigen_vecs):\n",
    "        plt.quiver(0, 0,\n",
    "           2 * np.sqrt(eigen_values[i]) * eigen_vec[0], 2 * np.sqrt(eigen_values[i]) * eigen_vec[1],\n",
    "           color=colors[i], angles=\"xy\", scale_units=\"xy\", scale=1,\n",
    "           zorder=2, width=0.011)"
   ]
  },
  {
   "cell_type": "code",
   "execution_count": 67,
   "metadata": {},
   "outputs": [
    {
     "data": {
      "image/png": "[encoded data removed]",
      "text/plain": [
       "<Figure size 432x288 with 1 Axes>"
      ]
     },
     "metadata": {
      "needs_background": "light"
     },
     "output_type": "display_data"
    }
   ],
   "source": [
    "plot_eigenvectors([eigen_vec], [eigen_val], colors=[\"#FF8177\", \"orange\"])\n",
    "plot_two(data_norm[:, 0], data_norm[:, 1], draw_axes=True)"
   ]
  },
  {
   "cell_type": "code",
   "execution_count": 68,
   "metadata": {},
   "outputs": [
    {
     "data": {
      "image/png": "[encoded data removed]",
      "text/plain": [
       "<Figure size 432x288 with 1 Axes>"
      ]
     },
     "metadata": {
      "needs_background": "light"
     },
     "output_type": "display_data"
    }
   ],
   "source": [
    "plot_eigenvectors([np.absolute(v[0])], [s[0]**2 / (364)], colors=[\"#FF8177\", \"orange\"])\n",
    "plot_two(data_norm[:, 0], data_norm[:, 1], draw_axes=True)"
   ]
  },
  {
   "cell_type": "markdown",
   "metadata": {},
   "source": [
    "### SVD for First K Singular Values (Normalized Power Interation)\n",
    "\n",
    "Say you start with the matrix $A$ and you compute $v_1$. You can use $v_1$ to compute $u_1$ and $\\sigma_1(A)$. Then you want to ensure you’re ignoring all vectors in the span of $v_1$ for your next greedy optimization, and to do this you can simply subtract the rank 1 component of $A$ corresponding to $v_1$, i.e., set $$A' = A - \\sigma_1(A) u_1 v_1^T$$ Then it’s easy to see that $\\sigma_1(A') = \\sigma_2(A)$ and basically all the singular vectors shift indices by 1 when going from $A$ to $A'$. Then you repeat.\n",
    "\n",
    "https://jeremykun.com/2016/05/16/singular-value-decomposition-part-2-theorem-proof-algorithm/"
   ]
  },
  {
   "cell_type": "code",
   "execution_count": 82,
   "metadata": {},
   "outputs": [
    {
     "data": {
      "text/plain": [
       "(array([739.00815818,  36.87914226,  10.2555066 ]),\n",
       " array([[-0.55470271, -0.45556799, -0.69624903],\n",
       "        [ 0.12505716,  0.78163498, -0.61107075],\n",
       "        [ 0.82259687, -0.42603353, -0.376603  ]]))"
      ]
     },
     "execution_count": 82,
     "metadata": {},
     "output_type": "execute_result"
    }
   ],
   "source": [
    "u, s, v=np.linalg.svd(data)\n",
    "s, v"
   ]
  },
  {
   "cell_type": "code",
   "execution_count": 83,
   "metadata": {},
   "outputs": [],
   "source": [
    "def svd_power_iter(A, k=None, epsilon=1e-10): \n",
    "    \"\"\"returns k dominant eigenvalues and eigenvectors of matrix A\"\"\"\n",
    "    A = np.array(A, dtype=float)\n",
    "    n, m = A.shape # (365, # of features)\n",
    "        \n",
    "    svd_so_far = []\n",
    "    if k is None:\n",
    "        k = min(n, m)\n",
    "\n",
    "    for i in range(k):\n",
    "        matrix_for_1d = A.copy()\n",
    "\n",
    "        for singular_value, u, v in svd_so_far[:i]:\n",
    "            matrix_for_1d -= singular_value * u.reshape(n, 1) @ v.reshape((1,m))\n",
    "        \n",
    "        x, v = svd_1d(matrix_for_1d, epsilon=epsilon)  # next singular vector\n",
    "        u_unnormalized = matrix_for_1d @ v\n",
    "        sigma = np.linalg.norm(u_unnormalized)  # next singular value\n",
    "        u = u_unnormalized / sigma\n",
    "\n",
    "        svd_so_far.append((sigma, u, v))\n",
    "\n",
    "    singular_values, us, vs = [np.array(x) for x in zip(*svd_so_far)]\n",
    "    return singular_values, us.T, vs"
   ]
  },
  {
   "cell_type": "code",
   "execution_count": 84,
   "metadata": {},
   "outputs": [
    {
     "data": {
      "text/plain": [
       "(array([739.00815818,  36.87914226,  10.2555066 ]),\n",
       " array([[ 0.55470271,  0.45556799,  0.69624903],\n",
       "        [ 0.12505716,  0.78163498, -0.61107075],\n",
       "        [ 0.82259687, -0.42603353, -0.376603  ]]),\n",
       " (365, 3))"
      ]
     },
     "execution_count": 84,
     "metadata": {},
     "output_type": "execute_result"
    }
   ],
   "source": [
    "sp, up, vp = svd_power_iter(data)\n",
    "sp, vp, up.shape"
   ]
  },
  {
   "cell_type": "code",
   "execution_count": 86,
   "metadata": {},
   "outputs": [
    {
     "name": "stdout",
     "output_type": "stream",
     "text": [
      "True\n",
      "True\n",
      "True\n"
     ]
    }
   ],
   "source": [
    "print(np.allclose(np.absolute(u[:,:3]), np.absolute(up)))\n",
    "print(np.allclose(np.absolute(v), np.absolute(vp)))\n",
    "print(np.allclose(s, sp))"
   ]
  },
  {
   "cell_type": "markdown",
   "metadata": {},
   "source": [
    "### SVD for First K Singular Values (Orthogonal Interation)\n",
    "\n",
    "the eigenvalues of A are located on the main diagonal of R (singular vals)\n",
    "And the columns of Q are the eigenvectors (each row of v)"
   ]
  },
  {
   "cell_type": "code",
   "execution_count": 87,
   "metadata": {},
   "outputs": [],
   "source": [
    "def svd_orthogonal_iteration(A, k=None, epsilon=1e-15):\n",
    "    n, m = A.shape\n",
    "    if k is None:\n",
    "        k=min(n, m)\n",
    "        \n",
    "    A_orig=A.copy()        \n",
    "    \n",
    "#     if n_orig > m_orig:\n",
    "    A = A.T @ A # (365, 365)\n",
    "    n, m = A.shape\n",
    "#     elif n_orig < m_orig:\n",
    "#         A = A @ A.T\n",
    "#         n, m = A.shape\n",
    "#     else:\n",
    "#         n,m=n_orig, m_orig\n",
    "    Q = np.random.rand(n, k)\n",
    "    Q, _ = np.linalg.qr(Q)\n",
    "    Q_prev = Q\n",
    " \n",
    "    for i in range(1000):\n",
    "        Z = A @ Q\n",
    "        Q, R = np.linalg.qr(Z)\n",
    "        # can use other stopping criteria as well \n",
    "        err = ((Q - Q_prev) ** 2).sum()\n",
    "        Q_prev = Q\n",
    "        if err < epsilon:\n",
    "            break\n",
    "\n",
    "    singular_values = np.sqrt(np.diag(R))\n",
    "    v = Q.T\n",
    "    #use property Values @ V = U.T@A => U=A@V@inv(Values)\n",
    "    u = A_orig @ v.T @ np.linalg.inv(np.diag(singular_values))\n",
    "\n",
    "    return u, singular_values, v"
   ]
  },
  {
   "cell_type": "code",
   "execution_count": 89,
   "metadata": {},
   "outputs": [
    {
     "data": {
      "text/plain": [
       "(array([739.00815818,  36.87914226,  10.2555066 ]),\n",
       " array([[-0.55470271, -0.45556799, -0.69624903],\n",
       "        [-0.12505716, -0.78163498,  0.61107075],\n",
       "        [-0.82259687,  0.42603353,  0.376603  ]]),\n",
       " (365, 3))"
      ]
     },
     "execution_count": 89,
     "metadata": {},
     "output_type": "execute_result"
    }
   ],
   "source": [
    "uo, so, vo = svd_orthogonal_iteration(data)\n",
    "so, vo, uo.shape"
   ]
  },
  {
   "cell_type": "code",
   "execution_count": 90,
   "metadata": {},
   "outputs": [
    {
     "name": "stdout",
     "output_type": "stream",
     "text": [
      "True\n",
      "True\n",
      "True\n"
     ]
    }
   ],
   "source": [
    "print(np.allclose(np.absolute(u[:,:3]), np.absolute(uo)))\n",
    "print(np.allclose(np.absolute(v), np.absolute(vo)))\n",
    "print(np.allclose(s, so))"
   ]
  },
  {
   "cell_type": "markdown",
   "metadata": {},
   "source": [
    "### SVD for First K Singular Values (Lanczos Algorithm)"
   ]
  },
  {
   "cell_type": "code",
   "execution_count": 91,
   "metadata": {},
   "outputs": [],
   "source": [
    "def lanczos(L, x0, k):\n",
    "    n, m = L.shape\n",
    "    s = x0.shape[0]\n",
    "\n",
    "    assert (n == m), \"Matrix should be square !!\"\n",
    "    assert (n == s), \"Initial vector has wrong shape !!\"\n",
    "\n",
    "    Q = np.zeros((n, k))\n",
    "\n",
    "    ones = np.ones(n)\n",
    "    ones = ones/np.linalg.norm(ones)\n",
    "\n",
    "    x0 = x0 - ones * np.inner(ones,x0)\n",
    "\n",
    "    ## Initialize q0 to zero vector and beta_0 to 0\n",
    "    q0 = np.zeros_like(x0)\n",
    "\n",
    "    ## Initialize q1 to normalized initial vector\n",
    "    q1 = np.divide(x0, np.linalg.norm(x0))\n",
    "\n",
    "    ## Lists to keep track of main diagonal and super-sub diagonal\n",
    "    alpha = np.zeros((k,))\n",
    "    beta = np.zeros((k + 1,))\n",
    "\n",
    "    ## Loop through the size of the matrix\n",
    "    for l in range(k):\n",
    "        Q[:, l] = q1[:]\n",
    "        ## Matrix-vector product\n",
    "        u = L.dot(q1)\n",
    "\n",
    "        ## Calculate alpha_l\n",
    "        alpha[l] = np.dot(q1.T, u)\n",
    "\n",
    "        ## Update u\n",
    "        u = u - beta[l] * q0 - alpha[l] * q1\n",
    "\n",
    "        ## Calculate beta_{l+1}\n",
    "        beta[l + 1]  = np.linalg.norm(u)\n",
    "\n",
    "        ## Set q_{l+1}\n",
    "        q0[:] = q1[:]\n",
    "        q1 = np.divide(u, beta[l + 1])\n",
    "\n",
    "    T = np.diag(alpha, 0) + np.diag(beta[1:-1], -1) + np.diag(beta[1:-1], 1)\n",
    "\n",
    "    return Q, T\n",
    "\n",
    "def svd_lanczos(A, k=None, epsilon=1e-15):\n",
    "    n, m = A.shape\n",
    "    if k is None:\n",
    "        k=min(n, m)\n",
    "        \n",
    "    A_orig=A.copy()        \n",
    "    A = A.T @ A # (3,3)\n",
    "    n, m = A.shape\n",
    "    \n",
    "    x0 = np.linspace(1, n, num = n)\n",
    "    Q, T = lanczos(A, x0, k)\n",
    "\n",
    "    singular_values = np.sqrt(np.diag(T))\n",
    "    v = Q.T\n",
    "    #use property Values @ V = U.T@A => U=A@V@inv(Values)\n",
    "    u = A_orig @ v.T @ np.linalg.inv(np.diag(singular_values))\n",
    "\n",
    "    return u, singular_values, v"
   ]
  },
  {
   "cell_type": "code",
   "execution_count": 92,
   "metadata": {},
   "outputs": [
    {
     "data": {
      "text/plain": [
       "(array([739.00815818,  36.87914226,  10.2555066 ]),\n",
       " array([[-0.55470271, -0.45556799, -0.69624903],\n",
       "        [-0.12505716, -0.78163498,  0.61107075],\n",
       "        [-0.82259687,  0.42603353,  0.376603  ]]),\n",
       " (365, 3))"
      ]
     },
     "execution_count": 92,
     "metadata": {},
     "output_type": "execute_result"
    }
   ],
   "source": [
    "ul, sl, vl = svd_orthogonal_iteration(data)\n",
    "sl, vl, ul.shape"
   ]
  },
  {
   "cell_type": "code",
   "execution_count": 93,
   "metadata": {},
   "outputs": [
    {
     "name": "stdout",
     "output_type": "stream",
     "text": [
      "True\n",
      "True\n",
      "True\n"
     ]
    }
   ],
   "source": [
    "print(np.allclose(np.absolute(u[:,:3]), np.absolute(ul)))\n",
    "print(np.allclose(np.absolute(v), np.absolute(vl)))\n",
    "print(np.allclose(s, sl))"
   ]
  },
  {
   "cell_type": "code",
   "execution_count": 99,
   "metadata": {},
   "outputs": [
    {
     "name": "stdout",
     "output_type": "stream",
     "text": [
      "True\n",
      "True\n",
      "True\n",
      "True\n",
      "True\n",
      "True\n",
      "True\n",
      "True\n",
      "True\n"
     ]
    }
   ],
   "source": [
    "# check the results\n",
    "print(np.allclose(np.absolute(u), np.absolute(up)))\n",
    "print(np.allclose(np.absolute(v), np.absolute(vp)))\n",
    "print(np.allclose(s, sp))\n",
    "\n",
    "print(np.allclose(np.absolute(u), np.absolute(uo)))\n",
    "print(np.allclose(np.absolute(v), np.absolute(vo)))\n",
    "print(np.allclose(s, so))\n",
    "\n",
    "print(np.allclose(np.absolute(u), np.absolute(ul)))\n",
    "print(np.allclose(np.absolute(v), np.absolute(vl)))\n",
    "print(np.allclose(s, sl))"
   ]
  }
 ],
 "metadata": {
  "kernelspec": {
   "display_name": "Python 3",
   "language": "python",
   "name": "python3"
  },
  "language_info": {
   "codemirror_mode": {
    "name": "ipython",
    "version": 3
   },
   "file_extension": ".py",
   "mimetype": "text/x-python",
   "name": "python",
   "nbconvert_exporter": "python",
   "pygments_lexer": "ipython3",
   "version": "3.7.7"
  }
 },
 "nbformat": 4,
 "nbformat_minor": 4
}
